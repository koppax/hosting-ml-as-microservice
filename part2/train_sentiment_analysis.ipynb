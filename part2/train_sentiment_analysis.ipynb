{
  "nbformat": 4,
  "nbformat_minor": 0,
  "metadata": {
    "anaconda-cloud": {},
    "kernelspec": {
      "display_name": "Python 3",
      "language": "python",
      "name": "python3"
    },
    "language_info": {
      "codemirror_mode": {
        "name": "ipython",
        "version": 2
      },
      "file_extension": ".py",
      "mimetype": "text/x-python",
      "name": "python",
      "nbconvert_exporter": "python",
      "pygments_lexer": "ipython2",
      "version": "2.7.3"
    },
    "pycharm": {
      "stem_cell": {
        "cell_type": "raw",
        "source": [],
        "metadata": {
          "collapsed": false
        }
      }
    },
    "colab": {
      "name": "train_sentiment_analysis.ipynb",
      "provenance": []
    }
  },
  "cells": [
    {
      "cell_type": "markdown",
      "metadata": {
        "collapsed": false,
        "pycharm": {
          "name": "#%% md\n"
        },
        "id": "ST27pKJLJwNA",
        "colab_type": "text"
      },
      "source": [
        "## Part 2: Training your own ML Model\n",
        "\n",
        "<a href=\"https://colab.research.google.com/github/peckjon/hosting-ml-as-microservice/blob/master/part2/train_sentiment_analysis.ipynb\" target=\"_parent\"><img src=\"https://colab.research.google.com/assets/colab-badge.svg\" alt=\"Open In Colab\"/></a>"
      ]
    },
    {
      "cell_type": "markdown",
      "metadata": {
        "id": "GNhv161tJwNI",
        "colab_type": "text"
      },
      "source": [
        "### Download corpuses\n",
        "\n",
        "We'll continue using the `movie_reviews` corpus to train our model. The `stopwords` corpus contains a [set of standard stopwords](https://gist.github.com/sebleier/554280) we'll want to remove from the input, and `punkt` is used for toneization in the [.words()](https://www.nltk.org/api/nltk.corpus.html#corpus-reader-functions) method of the corpus reader."
      ]
    },
    {
      "cell_type": "code",
      "metadata": {
        "pycharm": {
          "name": "#%%\n"
        },
        "id": "gyhejq_RJwNL",
        "colab_type": "code",
        "colab": {}
      },
      "source": [
        "from nltk import download\n",
        "\n",
        "download('movie_reviews')\n",
        "download('punkt')\n",
        "download('stopwords')"
      ],
      "execution_count": null,
      "outputs": []
    },
    {
      "cell_type": "markdown",
      "metadata": {
        "id": "Nd6vT7V_JwNd",
        "colab_type": "text"
      },
      "source": [
        "### Define feature extractor and bag-of-words converter\n",
        "\n",
        "Given a list of (already tokenized) words, we need a function to extract just the ones we care about: those not found in the list of English stopwords or standard punctuation.\n",
        "\n",
        "We also need a way to easily turn a list of words into a [bag-of-words](https://en.wikipedia.org/wiki/Bag-of-words_model), pairing each word with the count of its occurrences."
      ]
    },
    {
      "cell_type": "code",
      "metadata": {
        "id": "ryzsZbA-JwNg",
        "colab_type": "code",
        "colab": {}
      },
      "source": [
        "from nltk.corpus import stopwords\n",
        "from nltk import ngrams\n",
        "from string import punctuation\n",
        "from collections import defaultdict\n",
        "from nltk.tokenize import word_tokenize\n",
        "from nltk.corpus import movie_reviews\n",
        "import re\n",
        "\n",
        "stopwords_eng = []\n",
        "# stopwords_eng = stopwords.words('english')\n",
        "\n",
        "def extract_features(words):\n",
        "    return [w for w in words if w not in stopwords_eng]\n",
        "\n",
        "def get_words(fileid):\n",
        "    text = movie_reviews.raw(fileid)\n",
        "    re.sub('\\\".+?\\\"', '', text)\n",
        "    return word_tokenize(text)    \n",
        "\n",
        "def bag_of_words(words):\n",
        "   bag = defaultdict(int)\n",
        "   words = ngrams(words, 4)\n",
        "   for w in words:\n",
        "      bag[w] += 1\n",
        "   return bag"
      ],
      "execution_count": 209,
      "outputs": []
    },
    {
      "cell_type": "markdown",
      "metadata": {
        "id": "aiv6D31dJwNt",
        "colab_type": "text"
      },
      "source": [
        "### Ingest, clean, and convert the positive and negative reviews\n",
        "\n",
        "For both the positive (\"pos\") and negative (\"neg\") sets of reviews, extract the features and convert to bag of words. From these, we construct a list of tuples known as a \"featureset\": the first part of each tuple is the bag of words for that review, and the second is its label (\"pos\"/\"neg\").\n",
        "\n",
        "Note that `movie_reviews.words(fileid)` provides a tokenized list of words. If we wanted the un-tokenized text, we would use `movie_reviews.raw(fileid)` instead, then tokenize it using our preferred tokenizeer (e.g. [nltk.tokenize.word_tokenize](https://www.nltk.org/api/nltk.tokenize.html#nltk.tokenize.punkt.PunktLanguageVars.word_tokenize))."
      ]
    },
    {
      "cell_type": "code",
      "metadata": {
        "id": "H8Yvye42JwNv",
        "colab_type": "code",
        "colab": {}
      },
      "source": [
        "from nltk.corpus import movie_reviews\n",
        "\n",
        "reviews_pos = []\n",
        "reviews_neg = []\n",
        "for fileid in movie_reviews.fileids('pos'):\n",
        "    words = get_words(fileid)\n",
        "    reviews_pos.append((bag_of_words(words), 'pos'))\n",
        "for fileid in movie_reviews.fileids('neg'):\n",
        "    words = get_words(fileid)\n",
        "    reviews_neg.append((bag_of_words(words), 'neg'))"
      ],
      "execution_count": 210,
      "outputs": []
    },
    {
      "cell_type": "markdown",
      "metadata": {
        "id": "s3ru1UBTJwN6",
        "colab_type": "text"
      },
      "source": [
        "### Split reviews into training and test sets\n",
        "We need to break up each group of reviews into a training set (about 80%) and a test set (the remaining 20%). In case there's some meaningful order to the reviews (e.g. the first 800 are from one group of reviewers, the next 200 are from another), we shuffle the sets first to ensure we aren't introducing additional bias. Note that this means our accuracy will not be exactly the same on every run; if you wish to see consistent results on each run, you can stabilize the shuffle by calling [random.seed(n)](https://www.geeksforgeeks.org/random-seed-in-python/) first."
      ]
    },
    {
      "cell_type": "code",
      "metadata": {
        "id": "JZNfZGt0JwOB",
        "colab_type": "code",
        "colab": {}
      },
      "source": [
        "from random import shuffle\n",
        "\n",
        "split_pct = .80\n",
        "\n",
        "def split_set(review_set):\n",
        "    split = int(len(review_set)*split_pct)\n",
        "    return (review_set[:split], review_set[split:])\n",
        "\n",
        "shuffle(reviews_pos)\n",
        "shuffle(reviews_neg)\n",
        "\n",
        "pos_train, pos_test = split_set(reviews_pos)\n",
        "neg_train, neg_test = split_set(reviews_neg)\n",
        "\n",
        "train_set = pos_train+neg_train\n",
        "test_set = pos_test+neg_test"
      ],
      "execution_count": 211,
      "outputs": []
    },
    {
      "cell_type": "markdown",
      "metadata": {
        "id": "ItqWzcyMJwOP",
        "colab_type": "text"
      },
      "source": [
        "### Train the model\n",
        "\n",
        "Now that our data is ready, the training step itself is quite simple if we use the [NaiveBayesClassifier](https://www.nltk.org/api/nltk.classify.html#module-nltk.classify.naivebayes) provided by NLTK.\n",
        "\n",
        "If you are used to methods such as `model.fit(x,y)` which take two parameters -- the data and the labels -- it may be confusing that `NaiveBayesClassifier.train` takes just one argument. This is because the labels are already embedded in `train_set`: each element in the set is a Bag of Words paired with a 'pos' or 'neg'; value."
      ]
    },
    {
      "cell_type": "code",
      "metadata": {
        "id": "gs_XqKtsJwOR",
        "colab_type": "code",
        "colab": {}
      },
      "source": [
        "from nltk.classify import NaiveBayesClassifier\n",
        "\n",
        "model = NaiveBayesClassifier.train(train_set)"
      ],
      "execution_count": 212,
      "outputs": []
    },
    {
      "cell_type": "markdown",
      "metadata": {
        "id": "lBUMLHcfJwOe",
        "colab_type": "text"
      },
      "source": [
        "### Check model accuracy\n",
        "\n",
        "NLTK's built-in [accuracy](https://www.nltk.org/api/nltk.classify.html#module-nltk.classify.util) utility can run our test_set through the model and compare the labels returned by the model to the labels in the test set, producing an overall % accuracy. Not too impressive, right? We need to improve."
      ]
    },
    {
      "cell_type": "code",
      "metadata": {
        "id": "MACZ0egXJwOg",
        "colab_type": "code",
        "colab": {
          "base_uri": "https://localhost:8080/",
          "height": 35
        },
        "outputId": "bc471431-04e2-4b1f-85ab-8ab2e2944143"
      },
      "source": [
        "from nltk.classify.util import accuracy\n",
        "\n",
        "print(100 * accuracy(model, test_set))"
      ],
      "execution_count": 213,
      "outputs": [
        {
          "output_type": "stream",
          "text": [
            "79.0\n"
          ],
          "name": "stdout"
        }
      ]
    },
    {
      "cell_type": "markdown",
      "metadata": {
        "id": "xbvPD1LVJwOj",
        "colab_type": "text"
      },
      "source": [
        "### Save the model\n",
        "Our trained model will be cleared from memory when this notebook is closed. So that we can use it again later, save the model as a file using the [pickle](https://docs.python.org/3/library/pickle.html) serializer."
      ]
    },
    {
      "cell_type": "code",
      "metadata": {
        "pycharm": {
          "name": "#%%\n"
        },
        "id": "-9_xaqtmJwOk",
        "colab_type": "code",
        "colab": {}
      },
      "source": [
        "import pickle\n",
        "\n",
        "model_file = open('sa_classifier.pickle','wb')\n",
        "pickle.dump(model, model_file)\n",
        "model_file.close()"
      ],
      "execution_count": null,
      "outputs": []
    },
    {
      "cell_type": "markdown",
      "metadata": {
        "id": "50ftiDT2JwOv",
        "colab_type": "text"
      },
      "source": [
        "### Save the model (Colab version)\n",
        "\n",
        "Google Colab doesn't provide direct access to files saved during a notebook session, so we need to save it in [Google Drive](https://drive.google.com) instead. The first time you run this, it will ask for permission to access your Google Drive. Follow the instructions, then wait a few minutes and look for a new folder called \"Colab Output\" in [Drive](https://drive.google.com). Note that Colab does not alway sync to Drive immediately, so check the file update times and re-run this cell if it doesn't look like you have the most revent version of your file."
      ]
    },
    {
      "cell_type": "code",
      "metadata": {
        "id": "WtgK8qelJwOw",
        "colab_type": "code",
        "colab": {}
      },
      "source": [
        "import sys\n",
        "if 'google.colab' in sys.modules:\n",
        "    from google.colab import drive\n",
        "    drive.mount('/content/gdrive')\n",
        "    !mkdir -p '/content/gdrive/My Drive/Colab Output'\n",
        "    model_file = open('/content/gdrive/My Drive/Colab Output/sa_classifier.pickle','wb')\n",
        "    pickle.dump(model, model_file)\n",
        "    model_file.flush()\n",
        "    print('Model saved in /content/gdrive/My Drive/Colab Output')\n",
        "    !ls '/content/gdrive/My Drive/Colab Output'\n",
        "    drive.flush_and_unmount()\n",
        "    print('Re-run this cell if you cannot find it in https://drive.google.com')"
      ],
      "execution_count": null,
      "outputs": []
    }
  ]
}